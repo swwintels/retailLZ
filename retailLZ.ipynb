{
 "cells": [
  {
   "cell_type": "code",
   "execution_count": 483,
   "metadata": {},
   "outputs": [
    {
     "name": "stdout",
     "output_type": "stream",
     "text": [
      "Requirement already satisfied: rank_bm25 in c:\\users\\simon\\anaconda3\\envs\\fastaiv1\\lib\\site-packages (0.2)\n",
      "Requirement already satisfied: nltk in c:\\users\\simon\\anaconda3\\envs\\fastaiv1\\lib\\site-packages (3.4.5)\n",
      "Requirement already satisfied: numpy in c:\\users\\simon\\anaconda3\\envs\\fastaiv1\\lib\\site-packages (from rank_bm25) (1.17.3)\n",
      "Requirement already satisfied: six in c:\\users\\simon\\anaconda3\\envs\\fastaiv1\\lib\\site-packages (from nltk) (1.12.0)\n"
     ]
    }
   ],
   "source": [
    "!pip install rank_bm25 nltk"
   ]
  },
  {
   "cell_type": "code",
   "execution_count": 484,
   "metadata": {},
   "outputs": [],
   "source": [
    "import numpy as np\n",
    "import pandas as pd\n",
    "import html2text\n",
    "from nltk.corpus import stopwords\n",
    "import re\n",
    "\n",
    "from IPython.display import HTML\n",
    "#import nltk\n",
    "#nltk.download('stopwords')\n",
    "#nltk.download(\"punkt\")"
   ]
  },
  {
   "cell_type": "code",
   "execution_count": 485,
   "metadata": {},
   "outputs": [],
   "source": [
    "data = pd.read_csv('./data/messages.csv', header=None)\n",
    "data.columns= ['subject','sender','to','date','empty','body']\n",
    "data=data.drop(columns=['empty'])"
   ]
  },
  {
   "cell_type": "code",
   "execution_count": 486,
   "metadata": {},
   "outputs": [],
   "source": [
    "data = data[data[\"to\"]==\"s.w.wintels@gmail.com\"]\n",
    "data = data.reset_index(drop=True)"
   ]
  },
  {
   "cell_type": "code",
   "execution_count": 487,
   "metadata": {},
   "outputs": [],
   "source": [
    "from rank_bm25 import BM25Okapi"
   ]
  },
  {
   "cell_type": "code",
   "execution_count": 488,
   "metadata": {},
   "outputs": [],
   "source": [
    "english_stopwords = list(set(stopwords.words('english')))\n",
    "\n",
    "def tokenize(text):\n",
    "    words = nltk.word_tokenize(text)\n",
    "    return list(set([word for word in words if word.isalnum() \n",
    "                                             and not word in english_stopwords\n",
    "                                             and not (word.isnumeric() and len(word) < 4)]))"
   ]
  },
  {
   "cell_type": "code",
   "execution_count": 489,
   "metadata": {},
   "outputs": [],
   "source": [
    "h = html2text.HTML2Text()\n",
    "h.ignore_links = False\n",
    "#h.protect_links = True\n",
    "#h.single_line_breaks = True\n",
    "h.body_width=0\n",
    "\n",
    "def t2h (string):\n",
    "    return h.handle(string).replace(\"\\n\",\" \")\n",
    "\n",
    "def preprocess(string):\n",
    "    string = t2h(string)\n",
    "    return tokenize(string.lower())"
   ]
  },
  {
   "cell_type": "code",
   "execution_count": 490,
   "metadata": {},
   "outputs": [],
   "source": [
    "def contains_words(needles, haystack):\n",
    "    if \"subject:\" in haystack:\n",
    "        return False\n",
    "    for needle in needles:\n",
    "        if needle in haystack:\n",
    "            return True\n",
    "    return False"
   ]
  },
  {
   "cell_type": "code",
   "execution_count": 491,
   "metadata": {},
   "outputs": [],
   "source": [
    "corpus = [preprocess(body) for body in data[\"body\"]]"
   ]
  },
  {
   "cell_type": "code",
   "execution_count": 492,
   "metadata": {},
   "outputs": [],
   "source": [
    "bm25 = BM25Okapi(corpus)"
   ]
  },
  {
   "cell_type": "code",
   "execution_count": 498,
   "metadata": {},
   "outputs": [],
   "source": [
    "def search(query,n=3):\n",
    "    \n",
    "    if len(query)<4:\n",
    "        return pd.DataFrame()\n",
    "    \n",
    "    tokenized_query = query.lower().split(\" \")\n",
    "    doc_scores = bm25.get_scores(tokenized_query)\n",
    "    \n",
    "    top_x_results = np.argsort(doc_scores)[::-1][:n]\n",
    "    top_x_scores = np.sort(doc_scores)[::-1][:n]\n",
    "    \n",
    "    results = []\n",
    "    for j in range(len(top_x_results)):\n",
    "        x = top_x_results[j]\n",
    "        sentences = t2h(data.loc[x]['body']).split('---')\n",
    "        good_sentences = [e for e in sentences if contains_words(tokenized_query, e.lower())]\n",
    "        for sentence in good_sentences:\n",
    "            sub_sentences = sentence.split('. ')\n",
    "            good_sub_sentences = [e for e in sub_sentences if contains_words(tokenized_query, e.lower())]\n",
    "            \n",
    "            links=re.findall(r'http[s]?://(?:[a-zA-Z]|[0-9]|[$-_@.&+]|[!*\\(\\),]|(?:%[0-9a-fA-F][0-9a-fA-F]))+', sentence)\n",
    "            for i in range(len(links)):\n",
    "                    sentence = sentence.replace(links[i],f\"<a target=_blank href='{links[i][:-1]}'>Link {i+1}</a>)\")\n",
    "            for sub_sentence in good_sub_sentences:\n",
    "                sub_sentence = sub_sentence.strip().replace(\"|\",\"\")\n",
    "                links=re.findall(r'http[s]?://(?:[a-zA-Z]|[0-9]|[$-_@.&+]|[!*\\(\\),]|(?:%[0-9a-fA-F][0-9a-fA-F]))+', sub_sentence)\n",
    "                for i in range(len(links)):\n",
    "                    sub_sentence = sub_sentence.replace(links[i],f\"<a target=_blank href='{links[i][:-1]}'>Link {i+1}</a>)\")\n",
    "                    #links[i]=\n",
    "                record = pd.Series([x,data[\"date\"][x],top_x_scores[j],sub_sentence, sentence])\n",
    "                results.append(record)\n",
    "            \n",
    "            \n",
    "    results = pd.DataFrame(results)\n",
    "    results.columns = ['id','date','score','sub_sentence','paragraph']\n",
    "    return results"
   ]
  },
  {
   "cell_type": "code",
   "execution_count": 499,
   "metadata": {},
   "outputs": [
    {
     "data": {
      "application/vnd.jupyter.widget-view+json": {
       "model_id": "fd371559f99f41cdb2c263c13bf4ed8b",
       "version_major": 2,
       "version_minor": 0
      },
      "text/plain": [
       "interactive(children=(Text(value='Walmart', description='SearchTerms'), Output()), _dom_classes=('widget-inter…"
      ]
     },
     "metadata": {},
     "output_type": "display_data"
    }
   ],
   "source": [
    "from IPython.display import display\n",
    "import ipywidgets as widgets\n",
    "pd.options.display.max_colwidth = 500\n",
    "\n",
    "def search_papers(SearchTerms: str):\n",
    "    search_results = search(SearchTerms,20)\n",
    "    if len(search_results) > 0:\n",
    "        display(HTML(search_results.to_html(escape=False)))\n",
    "        #display(search_results) \n",
    "    return search_results\n",
    "\n",
    "searchbar = widgets.interactive(search_papers, SearchTerms='Walmart')\n",
    "searchbar"
   ]
  },
  {
   "cell_type": "code",
   "execution_count": null,
   "metadata": {},
   "outputs": [],
   "source": []
  }
 ],
 "metadata": {
  "kernelspec": {
   "display_name": "Python 3",
   "language": "python",
   "name": "python3"
  },
  "language_info": {
   "codemirror_mode": {
    "name": "ipython",
    "version": 3
   },
   "file_extension": ".py",
   "mimetype": "text/x-python",
   "name": "python",
   "nbconvert_exporter": "python",
   "pygments_lexer": "ipython3",
   "version": "3.6.7"
  }
 },
 "nbformat": 4,
 "nbformat_minor": 2
}
